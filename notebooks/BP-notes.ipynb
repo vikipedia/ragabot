{
 "cells": [
  {
   "cell_type": "markdown",
   "metadata": {},
   "source": [
    "# Generation of Indian Classical Raga using Probability"
   ]
  },
  {
   "cell_type": "markdown",
   "metadata": {},
   "source": [
    "Indian classical (hindustani) music has some definite structure. We will try to make use of that structure to generate indian classical tunes using a python program. Lets try to understand some basics first. Even if you ignore python programs in this article you will get good idea of how probabilities are used in this process.\n",
    "\n",
    "### Notations\n",
    "There are seven shudhha swars (or notes). All seven together are called saptak. Every next swar is a sound with frequency higher than current swar."
   ]
  },
  {
   "cell_type": "code",
   "execution_count": 19,
   "metadata": {},
   "outputs": [],
   "source": [
    "saptak = ['Sa', 'Re', \"Ga\", \"Ma\", \"Pa\", \"Dha\", \"Ni\"]"
   ]
  },
  {
   "cell_type": "markdown",
   "metadata": {},
   "source": [
    "In addition to _shudhha_ swars , few swars have there _komal_ counter part. For Example `Re, Ga, Dha` and `Ni` these swars also come as komal in some tunes. Similarly `Ma` has tivra counter part instead of komal. `Sa` and `Pa` do not have komal or tivra versions. We will denote shudhha swar with just plain letters. Komal swar with an underscore attached to it, while for tivra swar we will add a tail of two underscore. In all we have 12 swar in one saptak then!\n"
   ]
  },
  {
   "cell_type": "code",
   "execution_count": 1,
   "metadata": {},
   "outputs": [
    {
     "data": {
      "text/plain": [
       "12"
      ]
     },
     "execution_count": 1,
     "metadata": {},
     "output_type": "execute_result"
    }
   ],
   "source": [
    "saptak = ['Sa','Re_',\"Re\",\"Ga_\",\"Ga\",\"Ma\",\"Ma__\",\"Pa\",\"Dha_\",\"Dha\",\"Ni_\",\"Ni\"]\n",
    "len(saptak)"
   ]
  },
  {
   "cell_type": "markdown",
   "metadata": {},
   "source": [
    "There are three saptaks that we are going to make use of. _mandra_,_madhya_ and _tar_ saptak. We will denote all swar in _mandra_ saptak with lower case letters. Swar from _madhya_ saptak will be denoted by capitalized from (first letter upper case, rest lower), _tar_ saptak's swar by all upper case letters"
   ]
  },
  {
   "cell_type": "code",
   "execution_count": 2,
   "metadata": {},
   "outputs": [
    {
     "data": {
      "text/plain": [
       "['sa',\n",
       " 're_',\n",
       " 're',\n",
       " 'ga_',\n",
       " 'ga',\n",
       " 'ma',\n",
       " 'ma__',\n",
       " 'pa',\n",
       " 'dha_',\n",
       " 'dha',\n",
       " 'ni_',\n",
       " 'ni']"
      ]
     },
     "execution_count": 2,
     "metadata": {},
     "output_type": "execute_result"
    }
   ],
   "source": [
    "mandra_saptak = [s.lower() for s in saptak]\n",
    "mandra_saptak"
   ]
  },
  {
   "cell_type": "code",
   "execution_count": 22,
   "metadata": {},
   "outputs": [
    {
     "data": {
      "text/plain": [
       "['SA',\n",
       " 'RE_',\n",
       " 'RE',\n",
       " 'GA_',\n",
       " 'GA',\n",
       " 'MA',\n",
       " 'MA__',\n",
       " 'PA',\n",
       " 'DHA_',\n",
       " 'DHA',\n",
       " 'NI_',\n",
       " 'NI']"
      ]
     },
     "execution_count": 22,
     "metadata": {},
     "output_type": "execute_result"
    }
   ],
   "source": [
    "tar_saptak = [s.upper() for s in saptak]\n",
    "tar_saptak"
   ]
  },
  {
   "cell_type": "markdown",
   "metadata": {},
   "source": [
    "### Raga ###\n",
    "\n",
    "Raga consists of subset (not necessarily proper subset) of these 12 swar of a saptak. Further, when composing tunes in a raga, there are certain swars/notes that are allowed when notes are increasing in their frequencies (_aaroha_) and certain other notes when they are decreasing in frequency (_avroha_). Some ragas are more complicated in that when notes are increasing in frequency there are certain notes from which one must ‘descend’, i.e., use lower frequency notes and then continue the ‘ascent’ of increasing frequency notes. This last structure is also called the ‘chalan’ of the raga. Further, some notes are granted greater relative time than others, often called ‘nyas’ notes. \n",
    "For example here is a sample tune from raag bhoop.\n",
    "```\n",
    "SA,SA,Dha,Pa,Ga,Re,Sa,Re,Ga,Ga,Pa,Ga,Dha,Pa,Ga,Ga\n",
    "Ga,Pa,Dha,SA,RE,SA,Dha,Pa,SA,Pa,Dha,Pa,Ga,Re,Sa,Sa\n",
    "Ga,Ga,Pa,Dha,Pa,SA,SA,SA,Dha,Dha,SA,RE,GA,RE,SA,Dha\n",
    "GA,GA,RE,SA,RE,RE,SA,Dha,SA,Pa,Dha,Pa,Ga,Re,Sa,Sa\n",
    "\n",
    "Ga,Re,Ga,Ga,Sa,Re,Sa,Sa,Sa,Sa,Sa,dha,Sa,Re,Ga,Ga\n",
    "Pa,Ga,Pa,Pa,Dha,Dha,Pa,Pa,Ga,Pa,Dha,SA,Dha,Pa,Ga,Sa\n",
    "Pa,Ga,Ga,Re,Ga,Pa,SA,Dha,SA,SA,SA,SA,Dha,Re,SA,SA\n",
    "Dha,Dha,Dha,Dha,SA,RE,GA,RE,SA,SA,Dha,Pa,Dha,SA,Dha,Pa\n",
    "Ga,Re,Ga,Ga,Ga,Re,Pa,Ga,Dha,Pa,Dha,SA,Dha,Pa,Ga,Sa\n",
    "```"
   ]
  },
  {
   "cell_type": "markdown",
   "metadata": {},
   "source": [
    "### How do we learn?\n",
    "\n",
    "We usually remember patterns in anything we learn. For example it is said that lanugages are learnt by practicing conversation. During conversations we remember that after the word `I` there are more chances of of verbs `am`, `was`, `will`, `shall` , `have`. but there are very less chances of having `is`, `were`, `has` after the word `I`. Same is true for swaras in an indian classical raga."
   ]
  },
  {
   "cell_type": "markdown",
   "metadata": {},
   "source": [
    " ### Can we emulate the patterns of raga? ###\n",
    " \n",
    "We make use of some existing tunes and assign a probabilty of transition from one swar to next. The structures/patterns defining the raga are encoded in a set of probabilities. Attached to each note is an array of probabilities which specifies the probability of transitioning from that note to other notes. In tech parlance this would be a Markov chain of sorts where the transition matrix is a stochastic matrix.\n",
    "    \n",
    "```\n",
    "     ___0.1___ Pa        ___0.5__ Ga\n",
    "    / __0.1___ Ga       /\n",
    "   / / _0.3___ Re-------____0.4__ Sa\n",
    "  / / /                 \\\n",
    "Sa _____0.2___ Sa        \\__0.1__ dha\n",
    "  \\ \n",
    "   \\ \\ \\_0.25_ dha \n",
    "    \\ \\__0.04_ pa\n",
    "     \\___0.01_ ga\n",
    "\n",
    "```"
   ]
  },
  {
   "cell_type": "markdown",
   "metadata": {},
   "source": [
    "### Probabilties\n",
    "\n",
    "How do we compute the prababilty of what swar will come next to a particular swar?\n",
    "\n",
    "So lets take our sample data and construct a transition probability for each swar! "
   ]
  },
  {
   "cell_type": "markdown",
   "metadata": {},
   "source": [
    "Here is notation of a sample tunes of raag bhoop. After every beat there is a comma. So whereever there are two or more swar without any comma in between, they are to be played in half note."
   ]
  },
  {
   "cell_type": "code",
   "execution_count": 4,
   "metadata": {},
   "outputs": [
    {
     "name": "stdout",
     "output_type": "stream",
     "text": [
      "Overwriting bhoop1.csv\n"
     ]
    }
   ],
   "source": [
    "%%file bhoop1.csv\n",
    "SA,SA,Dha,Pa,Ga,Re,Sa,Re,Ga$,Pa,Ga,Dha,Pa,Ga$\n",
    "Ga,Pa,Dha,SA,RE,SA,Dha,Pa,SA,Pa,Dha,Pa,Ga,Re,Sa$\n",
    "Ga,Ga,Pa,Dha,Pa,SA,SA$,Dha,Dha,SA,RE,GA,RE,SA,Dha\n",
    "GA,GA,RE,SA,RE,RE,SA,Dha,SA,Pa,Dha,Pa,Ga,Re,Sa$\n",
    "Ga,Re,Ga$,Sa,Re,Sa,Sa,Sa,Sa,Sa,dha,Sa,Re,Ga$\n",
    "Pa,Ga,Pa,Pa,Dha,Dha,Pa,Pa,Ga,Pa,Dha,SA,Dha,Pa,Ga,Sa\n",
    "Pa,Ga$,Re,Ga,Pa,SA,Dha,SA$$,SA,Dha,RE,SA$\n",
    "Dha,Dha,Dha,Dha,SA,RE,GA,RE,SA,SA,Dha,Pa,Dha,SA,Dha,Pa\n",
    "Ga,Re,Ga,Ga,Ga,Re,Pa,Ga,Dha,Pa,Dha,SA,Dha,Pa,Ga,Sa\n",
    "Sa,Re,Ga,Pa,GaRe,Sa$,Re,Pa$$,Re,Ga$,Re$\n",
    "Ga,GaPa,Ga,Re,Ga,Pa,Dha,SA,SA$,SA,Dha$,Pa,Ga,Pa\n",
    "DhaRE,SA$,Dha$,Pa,Ga,Re,GaPa,DhaSA,PaDha,SA,DhaSA,DhaPa,GaRe,Sa\n",
    "Pa,Ga,Ga,Ga,Pa$,SA,Dha,SA$,SA,SA,SARE,GARE,SA$\n",
    "SA,Dha,Dha,SA$,SA,RE$,DhaSA,PaDha,SA$,Dha$,Pa$\n",
    "Ga,GaPa,Ga,Re,Ga,Pa,Dha,SA,SARE,GARE,SA,DhaPa,DhaSA,DhaPa,GaRe,GaPa,GaRe,Sa"
   ]
  },
  {
   "cell_type": "markdown",
   "metadata": {},
   "source": [
    "Following is some part of computer program that reads this data and processes it."
   ]
  },
  {
   "cell_type": "code",
   "execution_count": 5,
   "metadata": {},
   "outputs": [],
   "source": [
    "def histogram(data):\n",
    "    \"\"\"\n",
    "    data is raga tune as a list of lines.\n",
    "    every line is a list of swar from the tune.\n",
    "    \"\"\"\n",
    "    hist = {}\n",
    "    \n",
    "    for line in data: #histogram of whats next item\n",
    "        for i, item in enumerate(line[:-1]):\n",
    "            itemd = hist.get(item, {})\n",
    "            itemd[line[i+1]] = itemd.get(line[i+1], 0) + 1\n",
    "            hist[item] = itemd\n",
    "\n",
    "    return hist\n",
    "\n",
    "def transition_probability(hist):\n",
    "    prob = {}\n",
    "    for k in hist:#compute probabilitis\n",
    "        total  = sum(hist[k].values())\n",
    "        prob[k] = {j: v/total for j,v in hist[k].items()}\n",
    "    return prob\n",
    "                \n",
    "def readcsv(filename):\n",
    "    with open(filename) as f:\n",
    "        return [line.strip().split(\",\") for line in f]\n",
    "\n",
    "def textplot(hist):\n",
    "    for k in sorted(hist, key=lambda k: hist[k], reverse=False):\n",
    "        print(k.rjust(9), str(hist[k]).rjust(3), hist[k]*\"*\")\n",
    "\n",
    "hist_  = histogram(readcsv(\"bhoop1.csv\"))"
   ]
  },
  {
   "cell_type": "markdown",
   "metadata": {},
   "source": [
    "We will use a computer program to read above notations from a file. We will compute simple frequencies, for each swar how many times it occurred after a particular swar. We will call this data as histogram for a particular swar.\n",
    "\n",
    "Lets look at what does this histogram means! For example look at following text chart. If we look at histogram data of `Dha`, it gives a glimpse of which swar comes after `Dha` and how many times."
   ]
  },
  {
   "cell_type": "code",
   "execution_count": 28,
   "metadata": {},
   "outputs": [
    {
     "name": "stdout",
     "output_type": "stream",
     "text": [
      "     SA$$   1 *\n",
      "       RE   1 *\n",
      "      SA$   2 **\n",
      "      Dha   6 ******\n",
      "       SA   9 *********\n",
      "       Pa  12 ************\n"
     ]
    }
   ],
   "source": [
    "textplot(hist_['Dha'])"
   ]
  },
  {
   "cell_type": "markdown",
   "metadata": {},
   "source": [
    "This means in our training data, `Pa` has occurred more than other note after `Dha`. So next most probable note after `Dha` is `Pa` while next to that counts highest after `Pa` is `SA`.\n",
    "\n",
    "And now probability (chance) that `Pa` will come after `Dha` is `12/(1+1+2+6+9+12) = 0.387`. Similarly we compute probabilities for every possible occurrence of other swar. Note that if some swar is not there in histogram or transistion probabilities of a particular sawr means it has zero probability or it will never follow the particular swar.\n",
    "\n",
    "Probabilitis for `Dha` look like as given below."
   ]
  },
  {
   "cell_type": "code",
   "execution_count": 29,
   "metadata": {},
   "outputs": [
    {
     "data": {
      "text/plain": [
       "{'Pa': 0.3870967741935484,\n",
       " 'SA': 0.2903225806451613,\n",
       " 'Dha': 0.1935483870967742,\n",
       " 'SA$$': 0.03225806451612903,\n",
       " 'RE': 0.03225806451612903,\n",
       " 'SA$': 0.06451612903225806}"
      ]
     },
     "execution_count": 29,
     "metadata": {},
     "output_type": "execute_result"
    }
   ],
   "source": [
    "probs = transition_probability(hist_)\n",
    "probs['Dha']"
   ]
  },
  {
   "cell_type": "markdown",
   "metadata": {},
   "source": [
    "This means \n",
    "\n",
    "probability of `Pa` coming after `Dha` is 0.3870967741935484\n",
    "\n",
    "probability of `SA` coming after `Dha` is 0.2903225806451613\n",
    "\n",
    "probability of `Dha` coming after `Dha` is 0.1935483870967742,\n",
    "\n",
    "probability of `SA$$` coming after `Dha` is 0.03225806451612903,\n",
    "\n",
    "probability of `RE` coming after `Dha` is 0.03225806451612903,\n",
    "\n",
    "probability of  `SA$` coming after `Dha` is 0.06451612903225806\n"
   ]
  },
  {
   "cell_type": "markdown",
   "metadata": {},
   "source": [
    "### Sampling , given the probabilities\n",
    "\n",
    "Now our next problem is given these transition probabilities for `Dha` how do we sample so that we find next note based on probabilty, but same time random also! This problem boils down to a problem of sampling item from an array based on probability for each position.\n"
   ]
  },
  {
   "cell_type": "code",
   "execution_count": 30,
   "metadata": {},
   "outputs": [
    {
     "name": "stdout",
     "output_type": "stream",
     "text": [
      "Pa 0.4124\n",
      "SA 0.3656\n",
      "Dha 0.1804\n",
      "Re 0.0209\n",
      "Ga 0.0207\n"
     ]
    }
   ],
   "source": [
    "import random\n",
    "def sample(items, probs):\n",
    "    r = random.random()\n",
    "    index = 0\n",
    "    while(r >= 0 and index < len(probs)):\n",
    "        r -= probs[index]\n",
    "        index += 1\n",
    "    return items[index - 1]\n",
    "\n",
    "\n",
    "def test_sample():\n",
    "    probs = {'Pa': 0.40425531914893614,\n",
    "             'SA': 0.3617021276595745,\n",
    "             'Dha': 0.19148936170212766,\n",
    "             'Re': 0.02127659574468085,\n",
    "             'Ga': 0.02127659574468085}\n",
    "    keys = [i for i in probs.keys()]\n",
    "    pvalues = [probs[i] for i in keys]\n",
    "    samples = [sample(keys, pvalues) for i in range(10000)]\n",
    "    for item in probs:\n",
    "        print(item, samples.count(item)/10000)\n",
    "    assert abs(probs['Pa']-samples.count('Pa')/10000)<0.01\n",
    "    \n",
    "test_sample()\n"
   ]
  },
  {
   "cell_type": "markdown",
   "metadata": {},
   "source": [
    "### lets ask computer to generate a tune!\n",
    "Once we have such transition probabilities of every swar in that raga, then if starting note is given we can generate next note based on prababilities given by our model. Then again the generated note used as starting point and again what can come next to it is again predicted. If we contnue same logic , we can keep generating notes after note and if we play those notes it will surprise us. It will be a different tune but in same raga in which training was done.\n",
    "\n",
    "Lets create a sample random tune in raag bhoop!"
   ]
  },
  {
   "cell_type": "code",
   "execution_count": 31,
   "metadata": {},
   "outputs": [],
   "source": [
    "bhoop_probs = transition_probability(histogram(readcsv(\"bhoop1.csv\")))\n",
    "def aalap(initial, transition_prob):\n",
    "    current = initial\n",
    "    \n",
    "    while True:\n",
    "        if current not in transition_prob:\n",
    "            current = random.choice(list(transition_prob.keys()))\n",
    "        yield current\n",
    "        probs = transition_prob[current]\n",
    "        items = [i for i in probs.keys()]\n",
    "        pvalues = [probs[item] for item in items]\n",
    "        current = sample(items, pvalues)\n",
    "            \n",
    "def take(seq, n):\n",
    "    return [next(seq) for i in range(n)]\n"
   ]
  },
  {
   "cell_type": "code",
   "execution_count": 32,
   "metadata": {},
   "outputs": [],
   "source": [
    "bhoop = aalap(\"Sa\",bhoop_probs)"
   ]
  },
  {
   "cell_type": "code",
   "execution_count": 33,
   "metadata": {},
   "outputs": [
    {
     "data": {
      "text/plain": [
       "['Sa',\n",
       " 'Sa',\n",
       " 'Sa',\n",
       " 'Re',\n",
       " 'Ga',\n",
       " 'Pa',\n",
       " 'Ga',\n",
       " 'Pa',\n",
       " 'Pa',\n",
       " 'Dha',\n",
       " 'Pa',\n",
       " 'SA',\n",
       " 'SA',\n",
       " 'Dha',\n",
       " 'Pa',\n",
       " 'Dha',\n",
       " 'Pa',\n",
       " 'Ga',\n",
       " 'Dha',\n",
       " 'RE',\n",
       " 'GA',\n",
       " 'GA',\n",
       " 'RE',\n",
       " 'SA',\n",
       " 'Dha',\n",
       " 'Dha',\n",
       " 'Dha',\n",
       " 'SA',\n",
       " 'RE',\n",
       " 'SA',\n",
       " 'Dha',\n",
       " 'SA$$']"
      ]
     },
     "execution_count": 33,
     "metadata": {},
     "output_type": "execute_result"
    }
   ],
   "source": [
    "take(bhoop, 32)"
   ]
  },
  {
   "cell_type": "markdown",
   "metadata": {},
   "source": [
    "### How do we examine it!!\n",
    "one way is to play it or sing it! Masters of classical music will imdiately recognise if it is the same raga. But there is another way! When we listen to a tune, how do we understand that it is playing in raag `bhoop`? By special sequencs of notes that come frequently in raag bhoop. we call it chalan or pakad. So let our python function generate some long tune for sufficiently long time. we will count how many times pakad comes into that sequence. This is just one indicator. Note that pakad has emerged into the sequence genereated by the computer program. We have not given any prior input about what pakad is there in the model that we built."
   ]
  },
  {
   "cell_type": "code",
   "execution_count": 34,
   "metadata": {},
   "outputs": [],
   "source": [
    "from collections import deque\n",
    "\n",
    "def search(seq, subseq, end=100):\n",
    "    def compare(source, dest):\n",
    "        for item in dest:\n",
    "            return any([\"\".join(item).lower() in \"\".join(source).lower().replace(\"$\",\"\") for item in dest])\n",
    "    \n",
    "    n = len(max(subseq, key=len))\n",
    "    window = deque(take(seq, n), n)\n",
    "    for i in range(n, end):\n",
    "        if compare(window, subseq):\n",
    "            yield i-n\n",
    "            window = deque(take(seq, n), n)\n",
    "        else:\n",
    "            window.append(next(seq))\n",
    "            \n",
    "\n",
    "def count(seq):\n",
    "    return sum(1 for i in seq)\n",
    "        "
   ]
  },
  {
   "cell_type": "code",
   "execution_count": 35,
   "metadata": {},
   "outputs": [
    {
     "name": "stdout",
     "output_type": "stream",
     "text": [
      "Notes Pakad\n",
      "    8 0.161\n",
      "   16 0.423\n",
      "   24 0.673\n",
      "   32 0.958\n",
      "   40 1.261\n",
      "   48 1.579\n",
      "   56 1.775\n",
      "   64 2.075\n",
      "   72 2.394\n",
      "   80 2.626\n",
      "   88 2.951\n",
      "   96  3.19\n"
     ]
    }
   ],
   "source": [
    "bhoop = aalap(\"Sa\", bhoop_probs)\n",
    "pakad = [[\"dha\",\"dha\",\"sa\"],[\"ga\",\"re\",\"pa\",\"ga\"],[\"dha\",\"pa\",\"ga\",\"re\"]]\n",
    "print(\"Notes\", \"Pakad\")\n",
    "for j in range(8,100,8):\n",
    "    print(\"{:5} {:5}\".format(j,sum([count(search(bhoop,pakad, j)) for i in range(1000)])/1000))"
   ]
  },
  {
   "cell_type": "code",
   "execution_count": null,
   "metadata": {},
   "outputs": [],
   "source": []
  },
  {
   "cell_type": "code",
   "execution_count": null,
   "metadata": {},
   "outputs": [],
   "source": []
  }
 ],
 "metadata": {
  "kernelspec": {
   "display_name": "Python 3 (ipykernel)",
   "language": "python",
   "name": "python3"
  },
  "language_info": {
   "codemirror_mode": {
    "name": "ipython",
    "version": 3
   },
   "file_extension": ".py",
   "mimetype": "text/x-python",
   "name": "python",
   "nbconvert_exporter": "python",
   "pygments_lexer": "ipython3",
   "version": "3.11.2"
  }
 },
 "nbformat": 4,
 "nbformat_minor": 4
}
